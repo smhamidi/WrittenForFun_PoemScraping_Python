{
 "cells": [
  {
   "cell_type": "code",
   "execution_count": null,
   "metadata": {
    "id": "N9oFVRyU7YmT"
   },
   "outputs": [],
   "source": [
    "from urllib.request import urlopen\n",
    "from bs4 import BeautifulSoup\n",
    "import requests\n",
    "\n",
    "class Scraper:\n",
    "    def __init__(self, poet_names=None, url=None):\n",
    "        self.poet_names = poet_names\n",
    "        self.url = url\n",
    "        \n",
    "    \n",
    "    def set_poets_name(self, url: str)-> list:\n",
    "        if url == \"https://ganjoor.net/\":\n",
    "            self.url = url\n",
    "            html_text = requests.get(url).text\n",
    "            html_soup = BeautifulSoup(html_text,\"lxml\")\n",
    "            divs_list = html_soup.find_all(\"div\", class_=\"caption\")\n",
    "            addresses = [str(div.find(\"a\")) for div in divs_list]\n",
    "            poet_names = [address.split('\"')[1][1:] for address in addresses]\n",
    "            poet_names = list(set(poet_names))\n",
    "            \n",
    "            self.poet_names = poet_names\n",
    "        else:\n",
    "            raise ValueError(\"This program is not defined for scraping the provided URL.\")\n",
    "            \n",
    "    @staticmethod\n",
    "    def check_url(url: str)-> bool:\n",
    "        try:\n",
    "            get = requests.get(url)\n",
    "            # if the request succeeds \n",
    "            if get.status_code == 200:\n",
    "                return True\n",
    "            else:\n",
    "                return False\n",
    "        #Exception\n",
    "        except:\n",
    "            return False\n",
    "    \n",
    "    def extend_url(self, extention):\n",
    "        return self.url + extention"
   ]
  },
  {
   "cell_type": "code",
   "execution_count": null,
   "metadata": {
    "id": "Zgz6pUU26mHI"
   },
   "outputs": [],
   "source": [
    "%load_ext autoreload\n",
    "%autoreload 2\n",
    "import sys\n",
    "sys.path.append(\"./src\")\n",
    "ganjoor = Scraper()\n",
    "ganjoor.set_poets_name(\"https://ganjoor.net/\")"
   ]
  },
  {
   "cell_type": "markdown",
   "metadata": {
    "id": "UuzDwGgJ6oMW"
   },
   "source": [
    "# New Section"
   ]
  },
  {
   "cell_type": "code",
   "execution_count": null,
   "metadata": {
    "id": "gl70z_xR6mHL"
   },
   "outputs": [],
   "source": [
    "with open(\"ganjoor_poet_names.txt\", \"w\") as f:\n",
    "    for name in ganjoor.poet_names[:-1]:\n",
    "        f.write(f\"{name}\\n\")\n",
    "    f.write(ganjoor.poet_names[-1])"
   ]
  },
  {
   "cell_type": "code",
   "execution_count": null,
   "metadata": {
    "id": "ZNAyqLYL6mHM"
   },
   "outputs": [],
   "source": [
    "poet_names = []\n",
    "with open(\"ganjoor_poet_names.txt\",\"r\") as f:\n",
    "    for name in f.read().splitlines():\n",
    "        poet_names.append(name)"
   ]
  },
  {
   "cell_type": "code",
   "execution_count": null,
   "metadata": {
    "colab": {
     "base_uri": "https://localhost:8080/"
    },
    "executionInfo": {
     "elapsed": 517,
     "status": "ok",
     "timestamp": 1681579248924,
     "user": {
      "displayName": "Seyed Mohammad Hamidi",
      "userId": "16908034755719046781"
     },
     "user_tz": -210
    },
    "id": "CnnAJuLD6mHN",
    "outputId": "84ce70c0-786b-4874-bc09-0e7570a64c44"
   },
   "outputs": [],
   "source": [
    "poet_names.__len__()"
   ]
  },
  {
   "cell_type": "code",
   "execution_count": null,
   "metadata": {
    "id": "xVj-qLvB6mHP"
   },
   "outputs": [],
   "source": [
    "def make_poets_url(names, cls):\n",
    "    poets_url = [cls.extend_url(name) for name in names]\n",
    "    return poets_url"
   ]
  },
  {
   "cell_type": "code",
   "execution_count": null,
   "metadata": {
    "id": "JmVtg44y6mHP"
   },
   "outputs": [],
   "source": [
    "poets_url = make_poets_url(ganjoor.poet_names, ganjoor)"
   ]
  },
  {
   "cell_type": "code",
   "execution_count": null,
   "metadata": {
    "id": "3eK2nHUp6mHQ"
   },
   "outputs": [],
   "source": [
    "import requests\n",
    "from bs4 import BeautifulSoup\n",
    "def get_first_layer(url):\n",
    "    html_text = requests.get(url).text\n",
    "    html_soup = BeautifulSoup(html_text,\"lxml\")\n",
    "\n",
    "    divs_list = html_soup.find_all(\"div\", class_=\"part-title-block\")\n",
    "    addresses = [str(div.find(\"a\")) for div in divs_list]\n",
    "    first_layer = [layer.split('\"')[1].split(\"/\")[-1] for layer in addresses]\n",
    "    return first_layer"
   ]
  },
  {
   "cell_type": "code",
   "execution_count": null,
   "metadata": {
    "id": "e0AtiMTN6mHR"
   },
   "outputs": [],
   "source": [
    "import requests\n",
    "from bs4 import BeautifulSoup\n",
    "def get_second_layer(url):\n",
    "    html_text = requests.get(url).text\n",
    "    html_soup = BeautifulSoup(html_text,\"lxml\")\n",
    "\n",
    "    divs_list = html_soup.find_all(\"div\", class_=\"part-title-block\")\n",
    "    addresses = [str(div.find(\"a\")) for div in divs_list]\n",
    "    second_layer = [layer.split('\"')[1].split(\"/\")[-1] for layer in addresses if \"#index\" not in layer]\n",
    "    if second_layer:\n",
    "        return second_layer\n",
    "    else:\n",
    "        return [\"\",]"
   ]
  },
  {
   "cell_type": "code",
   "execution_count": null,
   "metadata": {
    "colab": {
     "base_uri": "https://localhost:8080/"
    },
    "executionInfo": {
     "elapsed": 426208,
     "status": "ok",
     "timestamp": 1681579708843,
     "user": {
      "displayName": "Seyed Mohammad Hamidi",
      "userId": "16908034755719046781"
     },
     "user_tz": -210
    },
    "id": "9iCUcMbh6mHR",
    "outputId": "0d13b580-bbeb-497f-b124-ffb9bcb3cc94"
   },
   "outputs": [],
   "source": [
    "poet_layers = dict()\n",
    "poet_names_urls = list(zip(poet_names,poets_url))\n",
    "\n",
    "for name, initial_layer in poet_names_urls:\n",
    "    poet_layers[name] = list()\n",
    "    \n",
    "    for first_layer in get_first_layer(initial_layer):\n",
    "        for second_layer in get_second_layer(f\"{initial_layer}/{first_layer}\"):\n",
    "            if not second_layer:\n",
    "                second_layer = \"\"\n",
    "                slash = \"\"\n",
    "            else:\n",
    "                slash = \"/\"\n",
    "            \n",
    "            poet_layers[name].append(f\"{initial_layer}/{first_layer}{slash}{second_layer}\")\n",
    "    print(name)\n",
    "    \n"
   ]
  },
  {
   "cell_type": "code",
   "execution_count": null,
   "metadata": {
    "id": "1dVGFbP96mHT"
   },
   "outputs": [],
   "source": [
    "f = open(\"second_layer_links\", \"w\")\n",
    "f.close()\n",
    "poet_layers[\"rashhe\"] = [\"https://ganjoor.net/rashhe\"]\n",
    "for name, urls in poet_layers.items():\n",
    "    if not urls:\n",
    "        print(name)\n",
    "    with open(\"second_layer_links.txt\", \"a+\") as f:\n",
    "        for url in urls:\n",
    "            f.write(f\"{url}\\n\")"
   ]
  },
  {
   "cell_type": "code",
   "execution_count": null,
   "metadata": {
    "id": "Kx6PPmc46mHU"
   },
   "outputs": [],
   "source": [
    "third_layer_links = []\n",
    "with open(\"second_layer_links.txt\",\"r\") as f:\n",
    "    for link in f.read().splitlines():\n",
    "        third_layer_links.append(link)"
   ]
  },
  {
   "cell_type": "code",
   "execution_count": null,
   "metadata": {
    "colab": {
     "base_uri": "https://localhost:8080/"
    },
    "executionInfo": {
     "elapsed": 4,
     "status": "ok",
     "timestamp": 1681579833357,
     "user": {
      "displayName": "Seyed Mohammad Hamidi",
      "userId": "16908034755719046781"
     },
     "user_tz": -210
    },
    "id": "2_j4VIPm6mHV",
    "outputId": "b9f317c6-102f-47cf-a543-5e78aa50bb75"
   },
   "outputs": [],
   "source": [
    "third_layer_links.__len__()"
   ]
  },
  {
   "cell_type": "code",
   "execution_count": null,
   "metadata": {
    "id": "iT_oyvP06mHV"
   },
   "outputs": [],
   "source": [
    "all_links = []\n",
    "for link in third_layer_links:\n",
    "  html_text = requests.get(link).text\n",
    "  html_soup = BeautifulSoup(html_text,\"lxml\")\n",
    "  par_list = html_soup.find_all(\"p\", class_=\"poem-excerpt\")\n",
    "  addresses = [str(div.find(\"a\")) for div in par_list]\n",
    "  prefixs = [address.split('\"')[1].split(\"/\")[-1] for address in addresses]\n",
    "  for prefix in prefixs:\n",
    "    all_links.append(link+\"/\"+prefix)\n",
    "with open(\"final_list.txt\", \"w\") as f:\n",
    "    for name in all_links[:-1]:\n",
    "        f.write(f\"{name}\\n\")\n",
    "    f.write(all_links[-1])"
   ]
  },
  {
   "cell_type": "code",
   "execution_count": null,
   "metadata": {
    "colab": {
     "base_uri": "https://localhost:8080/",
     "height": 168
    },
    "executionInfo": {
     "elapsed": 572,
     "status": "error",
     "timestamp": 1681624087492,
     "user": {
      "displayName": "Seyed Mohammad Hamidi",
      "userId": "16908034755719046781"
     },
     "user_tz": -210
    },
    "id": "amgN5IfZRnxI",
    "outputId": "e8ca6feb-ff0a-4322-f39c-c384f7d7d5a2"
   },
   "outputs": [],
   "source": [
    "len(all_links)"
   ]
  }
 ],
 "metadata": {
  "colab": {
   "provenance": []
  },
  "kernelspec": {
   "display_name": "Python 3 (ipykernel)",
   "language": "python",
   "name": "python3"
  },
  "language_info": {
   "codemirror_mode": {
    "name": "ipython",
    "version": 3
   },
   "file_extension": ".py",
   "mimetype": "text/x-python",
   "name": "python",
   "nbconvert_exporter": "python",
   "pygments_lexer": "ipython3",
   "version": "3.11.3"
  }
 },
 "nbformat": 4,
 "nbformat_minor": 4
}
